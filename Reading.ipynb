{
  "nbformat": 4,
  "nbformat_minor": 0,
  "metadata": {
    "colab": {
      "name": "Untitled31.ipynb",
      "provenance": []
    },
    "kernelspec": {
      "name": "python3",
      "display_name": "Python 3"
    }
  },
  "cells": [
    {
      "cell_type": "markdown",
      "metadata": {
        "id": "YRY0FryjLcSq",
        "colab_type": "text"
      },
      "source": [
        "# Reading the csv file and using in the notebook\n"
      ]
    },
    {
      "cell_type": "code",
      "metadata": {
        "id": "hmhUWEpEF4bu",
        "colab_type": "code",
        "colab": {}
      },
      "source": [
        "import pandas as pd\n",
        "data=pd.read_csv('/content/csv_output_scrape.csv',encoding='cp1252')\n"
      ],
      "execution_count": 24,
      "outputs": []
    },
    {
      "cell_type": "markdown",
      "metadata": {
        "id": "OwNJTc2dLjv9",
        "colab_type": "text"
      },
      "source": [
        "# Looking at the content"
      ]
    },
    {
      "cell_type": "code",
      "metadata": {
        "id": "gz3Gh5DOIYm8",
        "colab_type": "code",
        "colab": {
          "base_uri": "https://localhost:8080/",
          "height": 514
        },
        "outputId": "8cbdf97b-437d-4971-de4c-c9d7f1c433b3"
      },
      "source": [
        "data"
      ],
      "execution_count": 20,
      "outputs": [
        {
          "output_type": "execute_result",
          "data": {
            "text/html": [
              "<div>\n",
              "<style scoped>\n",
              "    .dataframe tbody tr th:only-of-type {\n",
              "        vertical-align: middle;\n",
              "    }\n",
              "\n",
              "    .dataframe tbody tr th {\n",
              "        vertical-align: top;\n",
              "    }\n",
              "\n",
              "    .dataframe thead th {\n",
              "        text-align: right;\n",
              "    }\n",
              "</style>\n",
              "<table border=\"1\" class=\"dataframe\">\n",
              "  <thead>\n",
              "    <tr style=\"text-align: right;\">\n",
              "      <th></th>\n",
              "      <th>sno</th>\n",
              "      <th>Title</th>\n",
              "      <th>Date</th>\n",
              "      <th>Description</th>\n",
              "      <th>Link</th>\n",
              "    </tr>\n",
              "  </thead>\n",
              "  <tbody>\n",
              "    <tr>\n",
              "      <th>0</th>\n",
              "      <td>1</td>\n",
              "      <td>Python Tutorial: Zip Files – Creating and Extr...</td>\n",
              "      <td>November 19, 2019</td>\n",
              "      <td>In this video, we will be learning how to crea...</td>\n",
              "      <td>https://www.youtube.com/embed/z0gguhEmWiY?vers...</td>\n",
              "    </tr>\n",
              "    <tr>\n",
              "      <th>1</th>\n",
              "      <td>2</td>\n",
              "      <td>Python Data Science Tutorial: Analyzing the 20...</td>\n",
              "      <td>October 17, 2019</td>\n",
              "      <td>In this Python Programming video, we will be l...</td>\n",
              "      <td>https://www.youtube.com/embed/_P7X8tMplsw?vers...</td>\n",
              "    </tr>\n",
              "    <tr>\n",
              "      <th>2</th>\n",
              "      <td>3</td>\n",
              "      <td>Python Multiprocessing Tutorial: Run Code in P...</td>\n",
              "      <td>September 21, 2019</td>\n",
              "      <td>In this Python Programming video, we will be l...</td>\n",
              "      <td>https://www.youtube.com/embed/fKl2JW_qrso?vers...</td>\n",
              "    </tr>\n",
              "    <tr>\n",
              "      <th>3</th>\n",
              "      <td>4</td>\n",
              "      <td>Python Threading Tutorial: Run Code Concurrent...</td>\n",
              "      <td>September 12, 2019</td>\n",
              "      <td>In this Python Programming video, we will be l...</td>\n",
              "      <td>https://www.youtube.com/embed/IEEhzQoKtQU?vers...</td>\n",
              "    </tr>\n",
              "    <tr>\n",
              "      <th>4</th>\n",
              "      <td>5</td>\n",
              "      <td>Update (2019-09-03)</td>\n",
              "      <td>September 3, 2019</td>\n",
              "      <td>Hey everyone. I wanted to give you an update o...</td>\n",
              "      <td>NaN</td>\n",
              "    </tr>\n",
              "    <tr>\n",
              "      <th>5</th>\n",
              "      <td>6</td>\n",
              "      <td>Python Quick Tip: The Difference Between “==” ...</td>\n",
              "      <td>August 6, 2019</td>\n",
              "      <td>In this Python Programming Tutorial, we will b...</td>\n",
              "      <td>https://www.youtube.com/embed/mO_dS3rXDIs?vers...</td>\n",
              "    </tr>\n",
              "    <tr>\n",
              "      <th>6</th>\n",
              "      <td>7</td>\n",
              "      <td>Python Tutorial: Calling External Commands Usi...</td>\n",
              "      <td>July 24, 2019</td>\n",
              "      <td>In this Python Programming Tutorial, we will b...</td>\n",
              "      <td>https://www.youtube.com/embed/2Fp1N6dof0Y?vers...</td>\n",
              "    </tr>\n",
              "    <tr>\n",
              "      <th>7</th>\n",
              "      <td>8</td>\n",
              "      <td>Visual Studio Code (Windows) – Setting up a Py...</td>\n",
              "      <td>May 1, 2019</td>\n",
              "      <td>In this Python Programming Tutorial, we will b...</td>\n",
              "      <td>https://www.youtube.com/embed/-nh9rCzPJ20?vers...</td>\n",
              "    </tr>\n",
              "    <tr>\n",
              "      <th>8</th>\n",
              "      <td>9</td>\n",
              "      <td>Visual Studio Code (Mac) – Setting up a Python...</td>\n",
              "      <td>May 1, 2019</td>\n",
              "      <td>In this Python Programming Tutorial, we will b...</td>\n",
              "      <td>https://www.youtube.com/embed/06I63_p-2A4?vers...</td>\n",
              "    </tr>\n",
              "    <tr>\n",
              "      <th>9</th>\n",
              "      <td>10</td>\n",
              "      <td>Clarifying the Issues with Mutable Default Arg...</td>\n",
              "      <td>April 24, 2019</td>\n",
              "      <td>In this Python Programming Tutorial, we will b...</td>\n",
              "      <td>https://www.youtube.com/embed/_JGmemuINww?vers...</td>\n",
              "    </tr>\n",
              "  </tbody>\n",
              "</table>\n",
              "</div>"
            ],
            "text/plain": [
              "   sno  ...                                               Link\n",
              "0    1  ...  https://www.youtube.com/embed/z0gguhEmWiY?vers...\n",
              "1    2  ...  https://www.youtube.com/embed/_P7X8tMplsw?vers...\n",
              "2    3  ...  https://www.youtube.com/embed/fKl2JW_qrso?vers...\n",
              "3    4  ...  https://www.youtube.com/embed/IEEhzQoKtQU?vers...\n",
              "4    5  ...                                                NaN\n",
              "5    6  ...  https://www.youtube.com/embed/mO_dS3rXDIs?vers...\n",
              "6    7  ...  https://www.youtube.com/embed/2Fp1N6dof0Y?vers...\n",
              "7    8  ...  https://www.youtube.com/embed/-nh9rCzPJ20?vers...\n",
              "8    9  ...  https://www.youtube.com/embed/06I63_p-2A4?vers...\n",
              "9   10  ...  https://www.youtube.com/embed/_JGmemuINww?vers...\n",
              "\n",
              "[10 rows x 5 columns]"
            ]
          },
          "metadata": {
            "tags": []
          },
          "execution_count": 20
        }
      ]
    },
    {
      "cell_type": "code",
      "metadata": {
        "id": "7chJcoYxIjS6",
        "colab_type": "code",
        "colab": {
          "base_uri": "https://localhost:8080/",
          "height": 116
        },
        "outputId": "c7b5c489-c76c-4e84-ffa2-e2389e829c17"
      },
      "source": [
        "data.iloc[0,:]"
      ],
      "execution_count": 21,
      "outputs": [
        {
          "output_type": "execute_result",
          "data": {
            "text/plain": [
              "sno                                                            1\n",
              "Title          Python Tutorial: Zip Files – Creating and Extr...\n",
              "Date                                           November 19, 2019\n",
              "Description    In this video, we will be learning how to crea...\n",
              "Link           https://www.youtube.com/embed/z0gguhEmWiY?vers...\n",
              "Name: 0, dtype: object"
            ]
          },
          "metadata": {
            "tags": []
          },
          "execution_count": 21
        }
      ]
    },
    {
      "cell_type": "code",
      "metadata": {
        "id": "lzX7aUvTLIRH",
        "colab_type": "code",
        "colab": {
          "base_uri": "https://localhost:8080/",
          "height": 34
        },
        "outputId": "cb8fe12e-5e3d-4dda-d97f-e031c8827c7f"
      },
      "source": [
        "data['Title'][0]"
      ],
      "execution_count": 23,
      "outputs": [
        {
          "output_type": "execute_result",
          "data": {
            "application/vnd.google.colaboratory.intrinsic+json": {
              "type": "string"
            },
            "text/plain": [
              "'Python Tutorial: Zip Files – Creating and Extracting Zip Archives'"
            ]
          },
          "metadata": {
            "tags": []
          },
          "execution_count": 23
        }
      ]
    }
  ]
}